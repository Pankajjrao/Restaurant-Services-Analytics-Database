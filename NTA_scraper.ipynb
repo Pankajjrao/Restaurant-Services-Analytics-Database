{
 "cells": [
  {
   "cell_type": "code",
   "execution_count": 17,
   "id": "04b679fa",
   "metadata": {},
   "outputs": [],
   "source": [
    "import pandas as pd\n",
    "import numpy as np\n",
    "from bs4 import BeautifulSoup\n",
    "import requests"
   ]
  },
  {
   "cell_type": "code",
   "execution_count": 18,
   "id": "23cd47e5",
   "metadata": {},
   "outputs": [],
   "source": [
    "\n",
    "headers = {\n",
    "    'User-Agent': 'Mozilla/5.0 (Windows NT 10.0; Win64; x64) AppleWebKit/537.36 (KHTML, like Gecko) Chrome/91.0.4472.124 Safari/537.36'\n",
    "}"
   ]
  },
  {
   "cell_type": "code",
   "execution_count": 19,
   "id": "60aa8dcc",
   "metadata": {},
   "outputs": [],
   "source": [
    "URL = 'https://www.prisonpolicy.org/origin/ny/nta.html'"
   ]
  },
  {
   "cell_type": "code",
   "execution_count": 41,
   "id": "408181fe",
   "metadata": {},
   "outputs": [],
   "source": [
    "source = requests.get(URL, headers=headers).text\n",
    "soup = BeautifulSoup(source, \"html.parser\")"
   ]
  },
  {
   "cell_type": "code",
   "execution_count": 30,
   "id": "a655c020",
   "metadata": {},
   "outputs": [],
   "source": [
    "# tbody = soup.find(\"tbody\")"
   ]
  },
  {
   "cell_type": "code",
   "execution_count": 44,
   "id": "025bab99",
   "metadata": {},
   "outputs": [],
   "source": [
    "table = soup.find('table', id= 'table_appendix')"
   ]
  },
  {
   "cell_type": "code",
   "execution_count": 57,
   "id": "da3730f5",
   "metadata": {},
   "outputs": [],
   "source": [
    "tr_tags = table.find_all(\"tr\")"
   ]
  },
  {
   "cell_type": "code",
   "execution_count": 73,
   "id": "4786c0cf",
   "metadata": {},
   "outputs": [],
   "source": [
    "nta = []\n",
    "for td in tr_tags:\n",
    "    td_tags = td.find_all(\"td\")\n",
    "    if len(td_tags) > 3:\n",
    "        code = td_tags[1].text\n",
    "        \n",
    "        area = td_tags[2].text\n",
    "        data = {\"Code\":code, \"Area\":area}\n",
    "        nta.append(data)\n",
    "\n",
    "    "
   ]
  },
  {
   "cell_type": "code",
   "execution_count": 74,
   "id": "1311320a",
   "metadata": {
    "scrolled": true
   },
   "outputs": [
    {
     "name": "stdout",
     "output_type": "stream",
     "text": [
      "[{'Code': 'BX98', 'Area': 'Rikers Island'}, {'Code': 'SI99', 'Area': 'park-cemetery-etc-Staten Island'}, {'Code': 'QN99', 'Area': 'park-cemetery-etc-Queens'}, {'Code': 'QN98', 'Area': 'Airport'}, {'Code': 'MN50', 'Area': 'Stuyvesant Town-Cooper Village'}, {'Code': 'BK09', 'Area': 'Brooklyn Heights-Cobble Hill'}, {'Code': 'QN41', 'Area': 'Fresh Meadows-Utopia'}, {'Code': 'BX99', 'Area': 'park-cemetery-etc-Bronx'}, {'Code': 'BK99', 'Area': 'park-cemetery-etc-Brooklyn'}, {'Code': 'QN45', 'Area': 'Douglas Manor-Douglaston-Little Neck'}, {'Code': 'QN47', 'Area': 'Ft. Totten-Bay Terrace-Clearview'}, {'Code': 'QN62', 'Area': 'Queensboro Hill'}, {'Code': 'QN44', 'Area': 'Glen Oaks-Floral Park-New Hyde Park'}, {'Code': 'BK46', 'Area': 'Ocean Parkway South'}, {'Code': 'QN48', 'Area': 'Auburndale'}, {'Code': 'BX22', 'Area': 'North Riverdale-Fieldston-Riverdale'}, {'Code': 'QN42', 'Area': 'Oakland Gardens'}, {'Code': 'QN43', 'Area': 'Bellerose'}, {'Code': 'SI32', 'Area': 'Rossville-Woodrow'}, {'Code': 'SI11', 'Area': 'Charleston-Richmond Valley-Tottenville'}, {'Code': 'SI25', 'Area': 'Oakwood-Oakwood Beach'}, {'Code': 'QN60', 'Area': 'Kew Gardens'}, {'Code': 'BK23', 'Area': 'West Brighton'}, {'Code': 'QN18', 'Area': 'Rego Park'}, {'Code': 'BX10', 'Area': 'Pelham Bay-Country Club-City Island'}, {'Code': 'SI48', 'Area': 'Arden Heights'}, {'Code': 'SI07', 'Area': 'Westerleigh'}, {'Code': 'MN40', 'Area': 'Upper East Side-Carnegie Hill'}, {'Code': 'SI01', 'Area': \"Annadale-Huguenot-Prince's Bay-Eltingville\"}, {'Code': 'BK40', 'Area': 'Windsor Terrace'}, {'Code': 'MN25', 'Area': 'Battery Park City-Lower Manhattan'}, {'Code': 'SI35', 'Area': 'New Brighton-Silver Lake'}, {'Code': 'SI54', 'Area': 'Great Kills'}, {'Code': 'QN21', 'Area': 'Middle Village'}, {'Code': 'QN49', 'Area': 'Whitestone'}, {'Code': 'QN30', 'Area': 'Maspeth'}, {'Code': 'QN50', 'Area': 'Elmhurst-Maspeth'}, {'Code': 'MN19', 'Area': 'Turtle Bay-East Midtown'}, {'Code': 'MN21', 'Area': 'Gramercy'}, {'Code': 'SI36', 'Area': 'Old Town-Dongan Hills-South Beach'}, {'Code': 'QN63', 'Area': 'Woodside'}, {'Code': 'MN99', 'Area': 'park-cemetery-etc-Manhattan'}, {'Code': 'QN37', 'Area': 'Kew Gardens Hills'}, {'Code': 'BX29', 'Area': 'Spuyten Duyvil-Kingsbridge'}, {'Code': 'BK25', 'Area': 'Homecrest'}, {'Code': 'QN46', 'Area': 'Bayside-Bayside Hills'}, {'Code': 'QN10', 'Area': 'Breezy Point-Belle Harbor-Rockaway Park-Broad Channel'}, {'Code': 'QN56', 'Area': 'Ozone Park'}, {'Code': 'BK19', 'Area': 'Brighton Beach'}, {'Code': 'BK72', 'Area': 'Williamsburg'}, {'Code': 'QN06', 'Area': 'Jamaica Estates-Holliswood'}, {'Code': 'BK27', 'Area': 'Bath Beach'}, {'Code': 'QN52', 'Area': 'East Flushing'}, {'Code': 'SI24', 'Area': 'Todt Hill-Emerson Hill-Heartland Village-Lighthouse Hill'}, {'Code': 'BK45', 'Area': 'Georgetown-Marine Park-Bergen Beach-Mill Basin'}, {'Code': 'QN57', 'Area': 'Lindenwood-Howard Beach'}, {'Code': 'SI14', 'Area': 'Grasmere-Arrochar-Ft. Wadsworth'}, {'Code': 'SI05', 'Area': 'New Springville-Bloomfield-Travis'}, {'Code': 'BK44', 'Area': 'Madison'}, {'Code': 'SI45', 'Area': 'New Dorp-Midland Beach'}, {'Code': 'BK30', 'Area': 'Dyker Heights'}, {'Code': 'QN23', 'Area': 'College Point'}, {'Code': 'MN31', 'Area': 'Lenox Hill-Roosevelt Island'}, {'Code': 'QN17', 'Area': 'Forest Hills'}, {'Code': 'QN19', 'Area': 'Glendale'}, {'Code': 'QN51', 'Area': 'Murray Hill'}, {'Code': 'QN72', 'Area': 'Steinway'}, {'Code': 'MN17', 'Area': 'Midtown-Midtown South'}, {'Code': 'MN24', 'Area': 'SoHo-TriBeCa-Civic Center-Little Italy'}, {'Code': 'BK41', 'Area': 'Kensington-Ocean Parkway'}, {'Code': 'QN33', 'Area': 'Cambria Heights'}, {'Code': 'QN38', 'Area': 'Pomonok-Flushing Heights-Hillcrest'}, {'Code': 'BK43', 'Area': 'Midwood'}, {'Code': 'QN35', 'Area': 'Briarwood-Jamaica Hills'}, {'Code': 'BX49', 'Area': 'Pelham Parkway'}, {'Code': 'BK76', 'Area': 'Greenpoint'}, {'Code': 'BK88', 'Area': 'Borough Park'}, {'Code': 'QN03', 'Area': 'Springfield Gardens South-Brookville'}, {'Code': 'BK93', 'Area': 'Starrett City'}, {'Code': 'MN23', 'Area': 'West Village'}, {'Code': 'QN05', 'Area': 'Rosedale'}, {'Code': 'MN14', 'Area': 'Lincoln Square'}, {'Code': 'SI28', 'Area': 'Port Richmond'}, {'Code': 'MN32', 'Area': 'Yorkville'}, {'Code': 'QN31', 'Area': 'Hunters Point-Sunnyside-West Maspeth'}, {'Code': 'BK29', 'Area': 'Bensonhurst East'}, {'Code': 'BX31', 'Area': 'Allerton-Pelham Gardens'}, {'Code': 'BX37', 'Area': 'Van Nest-Morris Park-Westchester Square'}, {'Code': 'BK28', 'Area': 'Bensonhurst West'}, {'Code': 'QN07', 'Area': 'Hollis'}, {'Code': 'BK31', 'Area': 'Bay Ridge'}, {'Code': 'BK26', 'Area': 'Gravesend'}, {'Code': 'BX59', 'Area': 'Westchester-Unionport'}, {'Code': 'QN27', 'Area': 'East Elmhurst'}, {'Code': 'QN29', 'Area': 'Elmhurst'}, {'Code': 'MN15', 'Area': 'Clinton'}, {'Code': 'BX52', 'Area': 'Schuylerville-Throgs Neck-Edgewater Park'}, {'Code': 'SI08', 'Area': 'Grymes Hill-Clifton-Fox Hills'}, {'Code': 'QN22', 'Area': 'Flushing'}, {'Code': 'MN20', 'Area': 'Murray Hill-Kips Bay'}, {'Code': 'QN66', 'Area': 'Laurelton'}, {'Code': 'QN54', 'Area': 'Richmond Hill'}, {'Code': 'QN71', 'Area': 'Old Astoria'}, {'Code': 'BK64', 'Area': 'Prospect Heights'}, {'Code': 'QN53', 'Area': 'Woodhaven'}, {'Code': 'BK17', 'Area': 'Sheepshead Bay-Gerritsen Beach-Manhattan Beach'}, {'Code': 'BX13', 'Area': 'Co-op City'}, {'Code': 'QN70', 'Area': 'Astoria'}, {'Code': 'BK34', 'Area': 'Sunset Park East'}, {'Code': 'BK37', 'Area': 'Park Slope-Gowanus'}, {'Code': 'QN02', 'Area': 'Springfield Gardens North'}, {'Code': 'QN28', 'Area': 'Jackson Heights'}, {'Code': 'QN25', 'Area': 'Corona'}, {'Code': 'QN68', 'Area': 'Queensbridge-Ravenswood-Long Island City'}, {'Code': 'BX46', 'Area': 'Parkchester'}, {'Code': 'MN27', 'Area': 'Chinatown'}, {'Code': 'MN22', 'Area': 'East Village'}, {'Code': 'BX62', 'Area': 'Woodlawn-Wakefield'}, {'Code': 'BX07', 'Area': 'Bronxdale'}, {'Code': 'BK90', 'Area': 'East Williamsburg'}, {'Code': 'QN20', 'Area': 'Ridgewood'}, {'Code': 'BK73', 'Area': 'North Side-South Side'}, {'Code': 'BK95', 'Area': 'Erasmus'}, {'Code': 'SI37', 'Area': 'Stapleton-Rosebank'}, {'Code': 'SI12', 'Area': \"Mariner's Harbor-Arlington-Port Ivory-Graniteville\"}, {'Code': 'QN26', 'Area': 'North Corona'}, {'Code': 'BK69', 'Area': 'Clinton Hill'}, {'Code': 'BK58', 'Area': 'Flatlands'}, {'Code': 'QN34', 'Area': 'Queens Village'}, {'Code': 'BK33', 'Area': 'Carroll Gardens-Columbia Street-Red Hook'}, {'Code': 'BX06', 'Area': 'Belmont'}, {'Code': 'BK32', 'Area': 'Sunset Park West'}, {'Code': 'BX75', 'Area': 'Crotona Park East'}, {'Code': 'QN55', 'Area': 'South Ozone Park'}, {'Code': 'BX33', 'Area': 'Longwood'}, {'Code': 'MN13', 'Area': 'Hudson Yards-Chelsea-Flatiron-Union Square'}, {'Code': 'QN61', 'Area': 'Jamaica'}, {'Code': 'BK68', 'Area': 'Fort Greene'}, {'Code': 'BX43', 'Area': 'Norwood'}, {'Code': 'BX28', 'Area': 'Van Cortlandt Village'}, {'Code': 'BK91', 'Area': 'East Flatbush-Farragut'}, {'Code': 'BX30', 'Area': 'Kingsbridge Heights'}, {'Code': 'MN09', 'Area': 'Morningside Heights'}, {'Code': 'BX03', 'Area': 'Eastchester-Edenwald-Baychester'}, {'Code': 'BK63', 'Area': 'Crown Heights South'}, {'Code': 'MN01', 'Area': 'Marble Hill-Inwood'}, {'Code': 'BX40', 'Area': 'Fordham South'}, {'Code': 'SI22', 'Area': 'West New Brighton-New Brighton-St. George'}, {'Code': 'BX08', 'Area': 'West Farms-Bronx River'}, {'Code': 'MN06', 'Area': 'Manhattanville'}, {'Code': 'BX55', 'Area': 'Soundview-Bruckner'}, {'Code': 'BK38', 'Area': 'DUMBO-Vinegar Hill-Downtown Brooklyn-Boerum Hill'}, {'Code': 'QN76', 'Area': 'Baisley Park'}, {'Code': 'BX44', 'Area': 'Williamsbridge-Olinville'}, {'Code': 'BX26', 'Area': 'Highbridge'}, {'Code': 'BK96', 'Area': 'Rugby-Remsen Village'}, {'Code': 'MN35', 'Area': 'Washington Heights North'}, {'Code': 'QN08', 'Area': 'St. Albans'}, {'Code': 'BX63', 'Area': 'West Concourse'}, {'Code': 'QN15', 'Area': 'Far Rockaway-Bayswater'}, {'Code': 'BK50', 'Area': 'Canarsie'}, {'Code': 'BX17', 'Area': 'East Tremont'}, {'Code': 'BX27', 'Area': 'Hunts Point'}, {'Code': 'BX34', 'Area': 'Melrose South-Mott Haven North'}, {'Code': 'BK21', 'Area': 'Seagate-Coney Island'}, {'Code': 'MN12', 'Area': 'Upper West Side'}, {'Code': 'BK83', 'Area': 'Cypress Hills-City Line'}, {'Code': 'BX05', 'Area': 'Bedford Park-Fordham North'}, {'Code': 'QN12', 'Area': 'Hammels-Arverne-Edgemere'}, {'Code': 'BX01', 'Area': 'Claremont-Bathgate'}, {'Code': 'BX09', 'Area': 'Soundview-Castle Hill-Clason Point-Harding Park'}, {'Code': 'BX35', 'Area': 'Morrisania-Melrose'}, {'Code': 'BK60', 'Area': 'Prospect Lefferts Gardens-Wingate'}, {'Code': 'QN01', 'Area': 'South Jamaica'}, {'Code': 'BK79', 'Area': 'Ocean Hill'}, {'Code': 'BK85', 'Area': 'East New York (Pennsylvania Ave)'}, {'Code': 'BX41', 'Area': 'Mount Hope'}, {'Code': 'BK77', 'Area': 'Bushwick North'}, {'Code': 'BX36', 'Area': 'University Heights-Morris Heights'}, {'Code': 'BX14', 'Area': 'East Concourse-Concourse Village'}, {'Code': 'BK42', 'Area': 'Flatbush'}, {'Code': 'MN04', 'Area': 'Hamilton Heights'}, {'Code': 'BX39', 'Area': 'Mott Haven-Port Morris'}, {'Code': 'MN36', 'Area': 'Washington Heights South'}, {'Code': 'MN11', 'Area': 'Central Harlem South'}, {'Code': 'MN28', 'Area': 'Lower East Side'}, {'Code': 'MN33', 'Area': 'East Harlem South'}, {'Code': 'BK78', 'Area': 'Bushwick South'}, {'Code': 'MN34', 'Area': 'East Harlem North'}, {'Code': 'BK75', 'Area': 'Bedford'}, {'Code': 'BK35', 'Area': 'Stuyvesant Heights'}, {'Code': 'BK81', 'Area': 'Brownsville'}, {'Code': 'BK82', 'Area': 'East New York'}, {'Code': 'MN03', 'Area': 'Central Harlem North-Polo Grounds'}, {'Code': 'BK61', 'Area': 'Crown Heights North'}]\n"
     ]
    }
   ],
   "source": [
    "print(nta)"
   ]
  },
  {
   "cell_type": "code",
   "execution_count": 75,
   "id": "45753692",
   "metadata": {},
   "outputs": [],
   "source": [
    "nta_df = pd.DataFrame.from_dict(nta)"
   ]
  },
  {
   "cell_type": "code",
   "execution_count": 76,
   "id": "33b444d7",
   "metadata": {},
   "outputs": [
    {
     "data": {
      "text/html": [
       "<div>\n",
       "<style scoped>\n",
       "    .dataframe tbody tr th:only-of-type {\n",
       "        vertical-align: middle;\n",
       "    }\n",
       "\n",
       "    .dataframe tbody tr th {\n",
       "        vertical-align: top;\n",
       "    }\n",
       "\n",
       "    .dataframe thead th {\n",
       "        text-align: right;\n",
       "    }\n",
       "</style>\n",
       "<table border=\"1\" class=\"dataframe\">\n",
       "  <thead>\n",
       "    <tr style=\"text-align: right;\">\n",
       "      <th></th>\n",
       "      <th>Code</th>\n",
       "      <th>Area</th>\n",
       "    </tr>\n",
       "  </thead>\n",
       "  <tbody>\n",
       "    <tr>\n",
       "      <th>0</th>\n",
       "      <td>BX98</td>\n",
       "      <td>Rikers Island</td>\n",
       "    </tr>\n",
       "    <tr>\n",
       "      <th>1</th>\n",
       "      <td>SI99</td>\n",
       "      <td>park-cemetery-etc-Staten Island</td>\n",
       "    </tr>\n",
       "    <tr>\n",
       "      <th>2</th>\n",
       "      <td>QN99</td>\n",
       "      <td>park-cemetery-etc-Queens</td>\n",
       "    </tr>\n",
       "    <tr>\n",
       "      <th>3</th>\n",
       "      <td>QN98</td>\n",
       "      <td>Airport</td>\n",
       "    </tr>\n",
       "    <tr>\n",
       "      <th>4</th>\n",
       "      <td>MN50</td>\n",
       "      <td>Stuyvesant Town-Cooper Village</td>\n",
       "    </tr>\n",
       "    <tr>\n",
       "      <th>...</th>\n",
       "      <td>...</td>\n",
       "      <td>...</td>\n",
       "    </tr>\n",
       "    <tr>\n",
       "      <th>190</th>\n",
       "      <td>BK35</td>\n",
       "      <td>Stuyvesant Heights</td>\n",
       "    </tr>\n",
       "    <tr>\n",
       "      <th>191</th>\n",
       "      <td>BK81</td>\n",
       "      <td>Brownsville</td>\n",
       "    </tr>\n",
       "    <tr>\n",
       "      <th>192</th>\n",
       "      <td>BK82</td>\n",
       "      <td>East New York</td>\n",
       "    </tr>\n",
       "    <tr>\n",
       "      <th>193</th>\n",
       "      <td>MN03</td>\n",
       "      <td>Central Harlem North-Polo Grounds</td>\n",
       "    </tr>\n",
       "    <tr>\n",
       "      <th>194</th>\n",
       "      <td>BK61</td>\n",
       "      <td>Crown Heights North</td>\n",
       "    </tr>\n",
       "  </tbody>\n",
       "</table>\n",
       "<p>195 rows × 2 columns</p>\n",
       "</div>"
      ],
      "text/plain": [
       "     Code                               Area\n",
       "0    BX98                      Rikers Island\n",
       "1    SI99    park-cemetery-etc-Staten Island\n",
       "2    QN99           park-cemetery-etc-Queens\n",
       "3    QN98                            Airport\n",
       "4    MN50     Stuyvesant Town-Cooper Village\n",
       "..    ...                                ...\n",
       "190  BK35                 Stuyvesant Heights\n",
       "191  BK81                        Brownsville\n",
       "192  BK82                      East New York\n",
       "193  MN03  Central Harlem North-Polo Grounds\n",
       "194  BK61                Crown Heights North\n",
       "\n",
       "[195 rows x 2 columns]"
      ]
     },
     "execution_count": 76,
     "metadata": {},
     "output_type": "execute_result"
    }
   ],
   "source": [
    "nta_df"
   ]
  },
  {
   "cell_type": "code",
   "execution_count": 77,
   "id": "7159f94d",
   "metadata": {},
   "outputs": [],
   "source": [
    "nta_df.to_csv(\"NTA_data.csv\", index=False)"
   ]
  },
  {
   "cell_type": "code",
   "execution_count": null,
   "id": "8be600b1",
   "metadata": {},
   "outputs": [],
   "source": []
  }
 ],
 "metadata": {
  "kernelspec": {
   "display_name": "Python 3 (ipykernel)",
   "language": "python",
   "name": "python3"
  },
  "language_info": {
   "codemirror_mode": {
    "name": "ipython",
    "version": 3
   },
   "file_extension": ".py",
   "mimetype": "text/x-python",
   "name": "python",
   "nbconvert_exporter": "python",
   "pygments_lexer": "ipython3",
   "version": "3.10.9"
  }
 },
 "nbformat": 4,
 "nbformat_minor": 5
}
